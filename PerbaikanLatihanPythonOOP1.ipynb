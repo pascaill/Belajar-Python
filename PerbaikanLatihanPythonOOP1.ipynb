{
  "nbformat": 4,
  "nbformat_minor": 0,
  "metadata": {
    "colab": {
      "provenance": [],
      "authorship_tag": "ABX9TyPm+I3KgWz8x59v6gw7DSo8",
      "include_colab_link": true
    },
    "kernelspec": {
      "name": "python3",
      "display_name": "Python 3"
    },
    "language_info": {
      "name": "python"
    }
  },
  "cells": [
    {
      "cell_type": "markdown",
      "metadata": {
        "id": "view-in-github",
        "colab_type": "text"
      },
      "source": [
        "<a href=\"https://colab.research.google.com/github/pascaill/Belajar-Python/blob/main/PerbaikanLatihanPythonOOP1.ipynb\" target=\"_parent\"><img src=\"https://colab.research.google.com/assets/colab-badge.svg\" alt=\"Open In Colab\"/></a>"
      ]
    },
    {
      "cell_type": "code",
      "execution_count": null,
      "metadata": {
        "id": "eI8V9GkSmB7h"
      },
      "outputs": [],
      "source": []
    },
    {
      "cell_type": "code",
      "execution_count": 15,
      "metadata": {
        "colab": {
          "base_uri": "https://localhost:8080/"
        },
        "id": "zNMW-sO4AWi9",
        "outputId": "ef071624-3d52-4ae2-b32a-db9a6b4df69c"
      },
      "outputs": [
        {
          "output_type": "stream",
          "name": "stdout",
          "text": [
            "Masukkan Username Andapascaill\n",
            "Akun pascaill telah ditambahkan\n",
            "Dengan Password  YdZLzhVGuTaibMPi\n",
            "Catat/Simpan Password Anda untuk Penggantian Password\n",
            "Semua User {'pascaill': 'YdZLzhVGuTaibMPi'}\n",
            "Masukkan Password Lama Anda: YdZLzhVGuTaibMPi\n",
            "Masukkan Password Baru: gagal jadi animek\n",
            "Password Berhasil Diganti\n",
            "Semua User {'pascaill': 'gagal jadi animek'}\n"
          ]
        }
      ],
      "source": [
        "import secrets\n",
        "import string\n",
        "\n",
        "class akun:\n",
        "  akuns = {}\n",
        "  def __init__ (self,username):\n",
        "      self.username = username\n",
        "      self.password = self.generate_password()\n",
        "      akun.akuns[username] = self.password\n",
        "\n",
        "  def add(self):\n",
        "      print(\"Akun\", self.username, \"telah ditambahkan\")\n",
        "      print(\"Dengan Password \", self.password)\n",
        "      print(\"Catat/Simpan Password Anda untuk Penggantian Password\")\n",
        "\n",
        "  def delete(self):\n",
        "      if self.username in akun.akuns:\n",
        "        del akun.akuns[self.username]\n",
        "        print(\"Akun Telah Dihapus\")\n",
        "      else:\n",
        "        print(\"Akun Tidak Ditemukan\")\n",
        "\n",
        "  def show(akun):\n",
        "      print(\"Semua User\", akun.akuns)\n",
        "\n",
        "  def generate_password(self):\n",
        "    pass_length = 16\n",
        "    pass_random = string.ascii_lowercase + string.ascii_uppercase + string.ascii_letters\n",
        "    pass_default = ''.join(secrets.choice(pass_random) for _ in range(pass_length))\n",
        "    self.password = pass_default\n",
        "    return pass_default\n",
        "\n",
        "  def changePW(self):\n",
        "      pwLama = input(str(\"Masukkan Password Lama Anda: \"))\n",
        "      if  pwLama != self.password:\n",
        "          print(\"Password Salah!\")\n",
        "      else:\n",
        "          pwBaru = input(str(\"Masukkan Password Baru: \"))\n",
        "          print(\"Password Berhasil Diganti\")\n",
        "      self.password = pwBaru\n",
        "      akun.akuns[self.username] = self.password\n",
        "\n",
        "\n",
        "pengguna = input(str(\"Masukkan Username Anda\"))\n",
        "user1 = akun(pengguna)\n",
        "user1.add()\n",
        "akun.show(akun)\n",
        "user1.changePW()\n",
        "akun.show(akun)\n",
        "\n"
      ]
    }
  ]
}